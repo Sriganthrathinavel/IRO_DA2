{
  "nbformat": 4,
  "nbformat_minor": 0,
  "metadata": {
    "colab": {
      "provenance": []
    },
    "kernelspec": {
      "name": "python3",
      "display_name": "Python 3"
    },
    "language_info": {
      "name": "python"
    }
  },
  "cells": [
    {
      "cell_type": "code",
      "source": [
        "#Boolean retrieval model\n",
        "import pandas as pd\n",
        "from sklearn.feature_extraction.text import TfidfVectorizer\n",
        "\n",
        "# Define the text collection\n",
        "docs = [\n",
        "    \"Every year Maha Shivratri is celebrated with a lot of pomp and grandeur. It is considered to be a very special time of the year since millions of people celebrate this momentous occasion with a lot of fervour and glee.\",\n",
        "    \"Lord Shiva devotees celebrate this occasion with a lot of grandness. It is accompanied by folk dances, songs, prayers, chants, mantras etc. This year, the beautiful occasion of Maha Shivratri will be celebrated on February 18. People keep a fast on this Maha shivratri, stay awake at night and pray to the lord for blessings, happiness, hope and prosperity. This festival holds a lot of significance and is considered to be one of the most important festivals in India.\",\n",
        "    \"The festival of Maha Shivratri will be celebrated on February 18 and is a very auspicious festival. This Hindu festival celebrates the power of Lord Shiva. Lord Shiva protects his devotees from negative and evil spirits. He is the epitome of powerful and auspicious energy.\"\n",
        "]\n",
        "\n",
        "# Define the TF-IDF vectorizer and fit it to the text collection\n",
        "vectorizer = TfidfVectorizer()\n",
        "tfidf_matrix = vectorizer.fit_transform(docs)\n",
        "\n",
        "# Convert the matrix to a pandas DataFrame for easy viewing\n",
        "tfidf_df = pd.DataFrame(tfidf_matrix.toarray(), columns=vectorizer.vocabulary_.keys())\n",
        "print(tfidf_df)\n"
      ],
      "metadata": {
        "colab": {
          "base_uri": "https://localhost:8080/"
        },
        "id": "aPaWJDjvgX0P",
        "outputId": "66fbe873-3821-4c88-8028-8b859215a454"
      },
      "execution_count": 111,
      "outputs": [
        {
          "output_type": "stream",
          "name": "stdout",
          "text": [
            "      every      year      maha  shivratri        is  celebrated      with  \\\n",
            "0  0.000000  0.000000  0.210618   0.000000  0.000000    0.000000  0.105309   \n",
            "1  0.089086  0.117137  0.207550   0.117137  0.000000    0.117137  0.138366   \n",
            "2  0.116167  0.000000  0.270642   0.000000  0.305491    0.000000  0.090214   \n",
            "\n",
            "        lot        of      pomp  ...  protects       his      from  negative  \\\n",
            "0  0.000000  0.000000  0.000000  ...  0.000000  0.000000  0.105309  0.105309   \n",
            "1  0.117137  0.117137  0.117137  ...  0.000000  0.117137  0.207550  0.276733   \n",
            "2  0.000000  0.000000  0.000000  ...  0.152746  0.000000  0.270642  0.090214   \n",
            "\n",
            "       evil   spirits        he   epitome  powerful    energy  \n",
            "0  0.178303  0.135604  0.135604  0.000000  0.271208  0.271208  \n",
            "1  0.000000  0.178172  0.000000  0.089086  0.089086  0.089086  \n",
            "2  0.000000  0.000000  0.116167  0.116167  0.000000  0.000000  \n",
            "\n",
            "[3 rows x 82 columns]\n"
          ]
        }
      ]
    },
    {
      "cell_type": "code",
      "source": [
        "from typing import Dict, List, Set\n",
        "\n",
        "\n",
        "def create_posting_lists(documents: Dict[str, str]) -> Dict[str, Dict[str, List[int]]]:\n",
        "    \"\"\"\n",
        "    Create posting lists for each term in the given documents.\n",
        "    \"\"\"\n",
        "    index = {}\n",
        "    for doc_id, doc_text in documents.items():\n",
        "        for position, term in enumerate(doc_text.split()):\n",
        "            if term not in index:\n",
        "                index[term] = {}\n",
        "            if doc_id not in index[term]:\n",
        "                index[term][doc_id] = []\n",
        "            index[term][doc_id].append(position)\n",
        "    return index\n",
        "\n",
        "\n",
        "def proximity_query(query: str, proximity: int, index: Dict[str, Dict[str, List[int]]]) -> List[str]:\n",
        "    \"\"\"\n",
        "    Find documents where the terms in the query appear within the specified proximity of each other.\n",
        "    \"\"\"\n",
        "    query_terms = query.split()\n",
        "    positions = {}\n",
        "    for term in query_terms:\n",
        "        positions[term] = set(index[term].keys())\n",
        "\n",
        "    # Find all document pairs that contain the query terms\n",
        "    pairs = set()\n",
        "    for term1 in query_terms:\n",
        "        for term2 in query_terms:\n",
        "            if term1 != term2:\n",
        "                pairs |= set(index[term1].keys()) & set(index[term2].keys())\n",
        "\n",
        "    # Check the proximity of each pair of terms in each document\n",
        "    results = []\n",
        "    for doc_id in pairs:\n",
        "        doc_positions = {term: index[term][doc_id] for term in query_terms if doc_id in index[term]}\n",
        "        for i in range(len(doc_positions[query_terms[0]])):\n",
        "            start = doc_positions[query_terms[0]][i]\n",
        "            for j in range(1, len(query_terms)):\n",
        "                term = query_terms[j]\n",
        "                if term not in doc_positions:\n",
        "                    break\n",
        "                positions = [pos for pos in doc_positions[term] if pos > start]\n",
        "                if not positions:\n",
        "                    break\n",
        "                start = positions[0]\n",
        "                if start - doc_positions[query_terms[0]][i] > proximity:\n",
        "                    break\n",
        "            else:\n",
        "                results.append(doc_id)\n",
        "                break\n",
        "\n",
        "    return results\n",
        "documents = {\n",
        "    \"doc1\": \"People keep a fast on this Maha shivratri, stay awake at night and pray to the lord for blessings, happiness, hope and prosperity.\",\n",
        "    \"doc2\": \"The festival of Maha Shivratri will be celebrated on February 18 and is a very auspicious festival. This Hindu festival celebrates the power of Lord Shiva. Lord Shiva protects his devotees from negative and evil spirits. He is the epitome of powerful and auspicious energy.\"\n",
        "}\n",
        "\n",
        "index = create_posting_lists(documents)\n",
        "\n",
        "results = proximity_query(\"hope and prosperity.\", 10, index)\n",
        "print(results)"
      ],
      "metadata": {
        "colab": {
          "base_uri": "https://localhost:8080/"
        },
        "id": "IPJ16oDjgZmW",
        "outputId": "29e6069d-17ca-4e09-fa95-90b849c95bc9"
      },
      "execution_count": 112,
      "outputs": [
        {
          "output_type": "stream",
          "name": "stdout",
          "text": [
            "['doc1']\n"
          ]
        }
      ]
    },
    {
      "cell_type": "code",
      "source": [
        "import nltk\n",
        "\n",
        "# Define the corpus of documents to be searched\n",
        "corpus = [\n",
        "    \"Every year Maha Shivratri is celebrated with a lot of pomp and grandeur. It is considered to be a very special time of the year since millions of people celebrate this momentous occasion with a lot of fervour and glee. Lord Shiva devotees celebrate this occasion with a lot of grandness. It is accompanied by folk dances, songs, prayers, chants, mantras etc. This year, the beautiful occasion of Maha Shivratri will be celebrated on February 18. People keep a fast on this Maha shivratri, stay awake at night and pray to the lord for blessings, happiness, hope and prosperity. This festival holds a lot of significance and is considered to be one of the most important festivals in India.\",\n",
        "    \"The festival of Maha Shivratri will be celebrated on February 18 and is a very auspicious festival. This Hindu festival celebrates the power of Lord Shiva. Lord Shiva protects his devotees from negative and evil spirits. He is the epitome of powerful and auspicious energy.\",\n",
        "]\n",
        "\n",
        "# Define the Boolean retrieval model query\n",
        "query = \"(Maha AND Shivratri) AND (stay AND awake AND night OR blessings)\"\n",
        "\n",
        "# Define the NLTK Porter Stemmer for word stemming\n",
        "porter = nltk.PorterStemmer()\n",
        "\n",
        "# Define the inverted index with Boolean weights\n",
        "inverted_index = {}\n",
        "for i, doc in enumerate(corpus):\n",
        "    tokens = nltk.word_tokenize(doc.lower())\n",
        "    for token in tokens:\n",
        "        stemmed_token = porter.stem(token)\n",
        "        if stemmed_token not in inverted_index:\n",
        "            inverted_index[stemmed_token] = [0] * len(corpus)\n",
        "        inverted_index[stemmed_token][i] = 1\n",
        "\n",
        "# Tokenize and stem the query\n",
        "query_tokens = nltk.word_tokenize(query.lower())\n",
        "query_stemmed = [porter.stem(word) for word in query_tokens]\n",
        "\n",
        "# Perform Boolean retrieval on the corpus using the query and the inverted index\n",
        "matches = []\n",
        "operator = \"and\"\n",
        "for i, doc in enumerate(corpus):\n",
        "    matches_doc = True\n",
        "    for query_term in query_stemmed:\n",
        "        if query_term.startswith(\"(\"):\n",
        "            operator = query_term[1:-1]\n",
        "        elif query_term == \"AND\":\n",
        "            operator = \"and\"\n",
        "        elif query_term == \"OR\":\n",
        "            operator = \"or\"\n",
        "        else:\n",
        "            inverted_list = inverted_index.get(query_term, [0] * len(corpus))\n",
        "            if operator == \"not\":\n",
        "                if inverted_list[i] == 1:\n",
        "                    matches_doc = False\n",
        "                    break\n",
        "            elif operator == \"and\":\n",
        "                if inverted_list[i] != 1:\n",
        "                    matches_doc = False\n",
        "                    break\n",
        "            elif operator == \"or\":\n",
        "                if inverted_list[i] == 1:\n",
        "                    break\n",
        "            else:\n",
        "                print(f\"Unrecognized operator: {operator}\")\n",
        "                break\n",
        "    if matches_doc:\n",
        "        matches.append(i)\n",
        "\n",
        "# Print the matching documents\n",
        "if len(matches) > 0:\n",
        "    print(\"Matching documents:\")\n",
        "    for match in matches:\n",
        "        print(f\"Document {match+1}: {corpus[match]}\")\n",
        "else:\n",
        "    print(\"No matching documents found.\")\n"
      ],
      "metadata": {
        "colab": {
          "base_uri": "https://localhost:8080/"
        },
        "id": "W7y71MsjxMaP",
        "outputId": "5c4093ca-e0a8-44a2-f4c9-4470f6d0d785"
      },
      "execution_count": 128,
      "outputs": [
        {
          "output_type": "stream",
          "name": "stdout",
          "text": [
            "Unrecognized operator: \n",
            "Unrecognized operator: \n",
            "Matching documents:\n",
            "Document 1: Every year Maha Shivratri is celebrated with a lot of pomp and grandeur. It is considered to be a very special time of the year since millions of people celebrate this momentous occasion with a lot of fervour and glee. Lord Shiva devotees celebrate this occasion with a lot of grandness. It is accompanied by folk dances, songs, prayers, chants, mantras etc. This year, the beautiful occasion of Maha Shivratri will be celebrated on February 18. People keep a fast on this Maha shivratri, stay awake at night and pray to the lord for blessings, happiness, hope and prosperity. This festival holds a lot of significance and is considered to be one of the most important festivals in India.\n",
            "Document 2: The festival of Maha Shivratri will be celebrated on February 18 and is a very auspicious festival. This Hindu festival celebrates the power of Lord Shiva. Lord Shiva protects his devotees from negative and evil spirits. He is the epitome of powerful and auspicious energy.\n"
          ]
        }
      ]
    },
    {
      "cell_type": "code",
      "execution_count": 115,
      "metadata": {
        "colab": {
          "base_uri": "https://localhost:8080/"
        },
        "id": "7bIBLDomKB75",
        "outputId": "df4f3dc0-5716-426b-827e-58987b95d5ed"
      },
      "outputs": [
        {
          "output_type": "stream",
          "name": "stdout",
          "text": [
            "['Every', 'year', 'Maha', 'Shivratri', 'is', 'celebrated', 'with', 'a', 'lot', 'of', 'pomp', 'and', 'grandeur', '.', 'It', 'is', 'considered', 'to', 'be', 'a', 'very', 'special', 'time', 'of', 'the', 'year', 'since', 'million', 'of', 'people', 'celebrate', 'this', 'momentous', 'occasion', 'with', 'a', 'lot', 'of', 'fervour', 'and', 'glee', '.']\n"
          ]
        },
        {
          "output_type": "stream",
          "name": "stderr",
          "text": [
            "[nltk_data] Downloading package punkt to /root/nltk_data...\n",
            "[nltk_data]   Package punkt is already up-to-date!\n",
            "[nltk_data] Downloading package wordnet to /root/nltk_data...\n",
            "[nltk_data]   Package wordnet is already up-to-date!\n",
            "[nltk_data] Downloading package omw-1.4 to /root/nltk_data...\n",
            "[nltk_data]   Package omw-1.4 is already up-to-date!\n"
          ]
        }
      ],
      "source": [
        "#Vector space Retrieval model\n",
        "#step 1 (Tokenization/Lemmatization) using Python's NLTK package\n",
        "import nltk\n",
        "from nltk.tokenize import word_tokenize\n",
        "from nltk.stem import WordNetLemmatizer\n",
        "nltk.download('punkt')\n",
        "nltk.download('wordnet')\n",
        "nltk.download('omw-1.4')\n",
        "# Sample document\n",
        "documents = \"Every year Maha Shivratri is celebrated with a lot of pomp and grandeur. It is considered to be a very special time of the year since millions of people celebrate this momentous occasion with a lot of fervour and glee.\"\n",
        "\n",
        "# Tokenization\n",
        "tokens = word_tokenize(documents)\n",
        "\n",
        "# Lemmatization\n",
        "lemmatizer = WordNetLemmatizer()\n",
        "lemmas = [lemmatizer.lemmatize(token) for token in tokens]\n",
        "\n",
        "print(lemmas)\n"
      ]
    },
    {
      "cell_type": "code",
      "source": [
        "# step 2 (Vocabulary Creation)\n",
        "# Sample documents\n",
        "document1 = \"Every year Maha Shivratri is celebrated with a lot of pomp and grandeur. It is considered to be a very special time of the year since millions of people celebrate this momentous occasion with a lot of fervour and glee.\"\n",
        "document2 = \"The festival of Maha Shivratri will be celebrated on February 18 and is a very auspicious festival. This Hindu festival celebrates the power of Lord Shiva. Lord Shiva protects his devotees from negative and evil spirits. He is the epitome of powerful and auspicious energy.\"\n",
        "documents = [document1, document2]\n",
        "\n",
        "# Tokenization and Lemmatization\n",
        "tokens = []\n",
        "lemmatizer = WordNetLemmatizer()\n",
        "for doc in documents:\n",
        "    doc_tokens = word_tokenize(doc)\n",
        "    doc_lemmas = [lemmatizer.lemmatize(token) for token in doc_tokens]\n",
        "    tokens.extend(doc_lemmas)\n",
        "\n",
        "# Vocabulary Creation\n",
        "vocabulary = list(set(tokens))\n",
        "\n",
        "print(vocabulary)\n"
      ],
      "metadata": {
        "colab": {
          "base_uri": "https://localhost:8080/"
        },
        "id": "ombrgIylKDKf",
        "outputId": "7a4e712a-1c65-4e00-db9f-c83fa7b6a1c4"
      },
      "execution_count": 116,
      "outputs": [
        {
          "output_type": "stream",
          "name": "stdout",
          "text": [
            "['from', 'Every', 'glee', 'devotee', 'year', 'This', 'since', 'celebrated', 'grandeur', 'and', 'energy', 'the', 'epitome', 'celebrates', 'Shivratri', '18', 'power', 'very', 'celebrate', 'occasion', 'The', 'Lord', 'protects', 'It', 'considered', 'is', 'a', 'of', 'be', 'will', 'people', 'powerful', 'auspicious', 'special', 'festival', 'time', 'lot', 'pomp', 'Maha', 'with', 'this', 'Shiva', 'his', 'momentous', '.', 'fervour', 'million', 'Hindu', 'on', 'February', 'spirit', 'to', 'negative', 'He', 'evil']\n"
          ]
        }
      ]
    },
    {
      "cell_type": "code",
      "source": [
        "# step 3 (Term Frequency Calculation)\n",
        "# Sample documents\n",
        "document1 = \"Every year Maha Shivratri is celebrated with a lot of pomp and grandeur. It is considered to be a very special time of the year since millions of people celebrate this momentous occasion with a lot of fervour and glee.\"\n",
        "document2 = \"The festival of Maha Shivratri will be celebrated on February 18 and is a very auspicious festival. This Hindu festival celebrates the power of Lord Shiva. Lord Shiva protects his devotees from negative and evil spirits. He is the epitome of powerful and auspicious energy.\"\n",
        "documents = [document1, document2]\n",
        "\n",
        "# Tokenization and Lemmatization\n",
        "tokens = []\n",
        "lemmatizer = WordNetLemmatizer()\n",
        "for doc in documents:\n",
        "    doc_tokens = word_tokenize(doc)\n",
        "    doc_lemmas = [lemmatizer.lemmatize(token) for token in doc_tokens]\n",
        "    tokens.append(doc_lemmas)\n",
        "\n",
        "# Vocabulary Creation\n",
        "vocabulary = list(set([word for doc in tokens for word in doc]))\n",
        "\n",
        "# Term Frequency Calculation\n",
        "tf = []\n",
        "for doc in tokens:\n",
        "    doc_tf = {}\n",
        "    for word in vocabulary:\n",
        "        doc_tf[word] = doc.count(word) / len(doc)\n",
        "    tf.append(doc_tf)\n",
        "\n",
        "print(tf)\n"
      ],
      "metadata": {
        "colab": {
          "base_uri": "https://localhost:8080/"
        },
        "id": "ashwMXWJKYd7",
        "outputId": "8b06d59f-b12b-420b-be7a-fda20ef7fdf2"
      },
      "execution_count": 117,
      "outputs": [
        {
          "output_type": "stream",
          "name": "stdout",
          "text": [
            "[{'from': 0.0, 'Every': 0.023809523809523808, 'glee': 0.023809523809523808, 'devotee': 0.0, 'year': 0.047619047619047616, 'This': 0.0, 'since': 0.023809523809523808, 'celebrated': 0.023809523809523808, 'grandeur': 0.023809523809523808, 'and': 0.047619047619047616, 'energy': 0.0, 'the': 0.023809523809523808, 'epitome': 0.0, 'celebrates': 0.0, 'Shivratri': 0.023809523809523808, '18': 0.0, 'power': 0.0, 'very': 0.023809523809523808, 'celebrate': 0.023809523809523808, 'occasion': 0.023809523809523808, 'The': 0.0, 'Lord': 0.0, 'protects': 0.0, 'It': 0.023809523809523808, 'considered': 0.023809523809523808, 'is': 0.047619047619047616, 'a': 0.07142857142857142, 'of': 0.09523809523809523, 'be': 0.023809523809523808, 'will': 0.0, 'people': 0.023809523809523808, 'powerful': 0.0, 'auspicious': 0.0, 'special': 0.023809523809523808, 'festival': 0.0, 'time': 0.023809523809523808, 'lot': 0.047619047619047616, 'pomp': 0.023809523809523808, 'Maha': 0.023809523809523808, 'with': 0.047619047619047616, 'this': 0.023809523809523808, 'Shiva': 0.0, 'his': 0.0, 'momentous': 0.023809523809523808, '.': 0.047619047619047616, 'fervour': 0.023809523809523808, 'million': 0.023809523809523808, 'Hindu': 0.0, 'on': 0.0, 'February': 0.0, 'spirit': 0.0, 'to': 0.023809523809523808, 'negative': 0.0, 'He': 0.0, 'evil': 0.0}, {'from': 0.02040816326530612, 'Every': 0.0, 'glee': 0.0, 'devotee': 0.02040816326530612, 'year': 0.0, 'This': 0.02040816326530612, 'since': 0.0, 'celebrated': 0.02040816326530612, 'grandeur': 0.0, 'and': 0.061224489795918366, 'energy': 0.02040816326530612, 'the': 0.04081632653061224, 'epitome': 0.02040816326530612, 'celebrates': 0.02040816326530612, 'Shivratri': 0.02040816326530612, '18': 0.02040816326530612, 'power': 0.02040816326530612, 'very': 0.02040816326530612, 'celebrate': 0.0, 'occasion': 0.0, 'The': 0.02040816326530612, 'Lord': 0.04081632653061224, 'protects': 0.02040816326530612, 'It': 0.0, 'considered': 0.0, 'is': 0.04081632653061224, 'a': 0.02040816326530612, 'of': 0.061224489795918366, 'be': 0.02040816326530612, 'will': 0.02040816326530612, 'people': 0.0, 'powerful': 0.02040816326530612, 'auspicious': 0.04081632653061224, 'special': 0.0, 'festival': 0.061224489795918366, 'time': 0.0, 'lot': 0.0, 'pomp': 0.0, 'Maha': 0.02040816326530612, 'with': 0.0, 'this': 0.0, 'Shiva': 0.04081632653061224, 'his': 0.02040816326530612, 'momentous': 0.0, '.': 0.08163265306122448, 'fervour': 0.0, 'million': 0.0, 'Hindu': 0.02040816326530612, 'on': 0.02040816326530612, 'February': 0.02040816326530612, 'spirit': 0.02040816326530612, 'to': 0.0, 'negative': 0.02040816326530612, 'He': 0.02040816326530612, 'evil': 0.02040816326530612}]\n"
          ]
        }
      ]
    },
    {
      "cell_type": "code",
      "source": [
        "#Inverse Document Frequency (IDF)\n",
        "import math\n",
        "documents = [ \"Every year Maha Shivratri is celebrated with a lot of pomp and grandeur. It is considered to be a very special time of the year since millions of people celebrate this momentous occasion with a lot of fervour and glee. Lord Shiva devotees celebrate this occasion with a lot of grandness. It is accompanied by folk dances, songs, prayers, chants, mantras etc. This year, the beautiful occasion of Maha Shivratri will be celebrated on February 18. People keep a fast on this Maha shivratri, stay awake at night and pray to the lord for blessings, happiness, hope and prosperity. This festival holds a lot of significance and is considered to be one of the most important festivals in India.\",    \"The festival of Maha Shivratri will be celebrated on February 18 and is a very auspicious festival. This Hindu festival celebrates the power of Lord Shiva. Lord Shiva protects his devotees from negative and evil spirits. He is the epitome of powerful and auspicious energy.\"]\n",
        "\n",
        "def calculate_idf(documents):\n",
        "    N = len(documents)\n",
        "    idf = {}\n",
        "    for doc in documents:\n",
        "        for word in doc.split():\n",
        "            if word not in idf:\n",
        "                n = sum([1 for doc in documents if word in doc])\n",
        "                idf[word] = math.log10(N/n)\n",
        "    return idf\n",
        "\n",
        "idf = calculate_idf(documents)\n",
        "print(idf)\n"
      ],
      "metadata": {
        "colab": {
          "base_uri": "https://localhost:8080/"
        },
        "id": "z0jkmIOTKdfP",
        "outputId": "3022f9a2-8274-49c2-ce82-a1ac96d63451"
      },
      "execution_count": 118,
      "outputs": [
        {
          "output_type": "stream",
          "name": "stdout",
          "text": [
            "{'Every': 0.3010299956639812, 'year': 0.3010299956639812, 'Maha': 0.0, 'Shivratri': 0.0, 'is': 0.0, 'celebrated': 0.0, 'with': 0.3010299956639812, 'a': 0.0, 'lot': 0.3010299956639812, 'of': 0.0, 'pomp': 0.3010299956639812, 'and': 0.0, 'grandeur.': 0.3010299956639812, 'It': 0.3010299956639812, 'considered': 0.3010299956639812, 'to': 0.0, 'be': 0.0, 'very': 0.0, 'special': 0.3010299956639812, 'time': 0.3010299956639812, 'the': 0.0, 'since': 0.3010299956639812, 'millions': 0.3010299956639812, 'people': 0.3010299956639812, 'celebrate': 0.0, 'this': 0.3010299956639812, 'momentous': 0.3010299956639812, 'occasion': 0.3010299956639812, 'fervour': 0.3010299956639812, 'glee.': 0.3010299956639812, 'Lord': 0.0, 'Shiva': 0.0, 'devotees': 0.0, 'grandness.': 0.3010299956639812, 'accompanied': 0.3010299956639812, 'by': 0.3010299956639812, 'folk': 0.3010299956639812, 'dances,': 0.3010299956639812, 'songs,': 0.3010299956639812, 'prayers,': 0.3010299956639812, 'chants,': 0.3010299956639812, 'mantras': 0.3010299956639812, 'etc.': 0.3010299956639812, 'This': 0.0, 'year,': 0.3010299956639812, 'beautiful': 0.3010299956639812, 'will': 0.0, 'on': 0.0, 'February': 0.0, '18.': 0.3010299956639812, 'People': 0.3010299956639812, 'keep': 0.3010299956639812, 'fast': 0.3010299956639812, 'shivratri,': 0.3010299956639812, 'stay': 0.3010299956639812, 'awake': 0.3010299956639812, 'at': 0.0, 'night': 0.3010299956639812, 'pray': 0.3010299956639812, 'lord': 0.3010299956639812, 'for': 0.3010299956639812, 'blessings,': 0.3010299956639812, 'happiness,': 0.3010299956639812, 'hope': 0.3010299956639812, 'prosperity.': 0.3010299956639812, 'festival': 0.0, 'holds': 0.3010299956639812, 'significance': 0.3010299956639812, 'one': 0.3010299956639812, 'most': 0.3010299956639812, 'important': 0.3010299956639812, 'festivals': 0.3010299956639812, 'in': 0.0, 'India.': 0.3010299956639812, 'The': 0.3010299956639812, '18': 0.0, 'auspicious': 0.3010299956639812, 'festival.': 0.3010299956639812, 'Hindu': 0.3010299956639812, 'celebrates': 0.3010299956639812, 'power': 0.3010299956639812, 'Shiva.': 0.3010299956639812, 'protects': 0.3010299956639812, 'his': 0.0, 'from': 0.3010299956639812, 'negative': 0.3010299956639812, 'evil': 0.3010299956639812, 'spirits.': 0.3010299956639812, 'He': 0.3010299956639812, 'epitome': 0.3010299956639812, 'powerful': 0.3010299956639812, 'energy.': 0.3010299956639812}\n"
          ]
        }
      ]
    },
    {
      "cell_type": "code",
      "source": [
        "#Step 5: Calculate TF-IDF\n",
        "import math\n",
        "\n",
        "document = [\n",
        "    \"Every year Maha Shivratri is celebrated with a lot of pomp and grandeur. It is considered to be a very special time of the year since millions of people celebrate this momentous occasion with a lot of fervour and glee. Lord Shiva devotees celebrate this occasion with a lot of grandness. It is accompanied by folk dances, songs, prayers, chants, mantras etc. This year, the beautiful occasion of Maha Shivratri will be celebrated on February 18. People keep a fast on this Maha shivratri, stay awake at night and pray to the lord for blessings, happiness, hope and prosperity. This festival holds a lot of significance and is considered to be one of the most important festivals in India.\",\n",
        "    \"The festival of Maha Shivratri will be celebrated on February 18 and is a very auspicious festival. This Hindu festival celebrates the power of Lord Shiva. Lord Shiva protects his devotees from negative and evil spirits. He is the epitome of powerful and auspicious energy.\"\n",
        "]\n",
        "\n",
        "def calculate_tf(document):\n",
        "    tf = {}\n",
        "    for word in document.split():\n",
        "        if word not in tf:\n",
        "            tf[word] = 0\n",
        "        tf[word] += 1\n",
        "    for word in tf:\n",
        "        tf[word] = tf[word] / len(document.split())\n",
        "    return tf\n",
        "\n",
        "def calculate_idf(documents):\n",
        "    N = len(documents)\n",
        "    idf = {}\n",
        "    for doc in documents:\n",
        "        for word in doc.split():\n",
        "            if word not in idf:\n",
        "                n = sum([1 for doc in documents if word in doc.split()])\n",
        "                idf[word] = math.log10(N/n)\n",
        "    return idf\n",
        "\n",
        "def calculate_tfidf(documents):\n",
        "    tfidf = []\n",
        "    idf = calculate_idf(documents)\n",
        "    for doc in documents:\n",
        "        doc_tfidf = {}\n",
        "        tf = calculate_tf(doc)\n",
        "        for word, freq in tf.items():\n",
        "            doc_tfidf[word] = freq * idf[word]\n",
        "        tfidf.append(doc_tfidf)\n",
        "    return tfidf\n",
        "\n",
        "tfidf = calculate_tfidf(documents)\n",
        "print(tfidf)\n"
      ],
      "metadata": {
        "colab": {
          "base_uri": "https://localhost:8080/"
        },
        "id": "9ac9jqdiKhZ6",
        "outputId": "791ac8e3-84c7-40b2-ac6a-70ffb9878d25"
      },
      "execution_count": 119,
      "outputs": [
        {
          "output_type": "stream",
          "name": "stdout",
          "text": [
            "[{'Every': 0.0025296638291090858, 'year': 0.0050593276582181716, 'Maha': 0.0, 'Shivratri': 0.0, 'is': 0.0, 'celebrated': 0.0, 'with': 0.007588991487327257, 'a': 0.0, 'lot': 0.010118655316436343, 'of': 0.0, 'pomp': 0.0025296638291090858, 'and': 0.0, 'grandeur.': 0.0025296638291090858, 'It': 0.0050593276582181716, 'considered': 0.0050593276582181716, 'to': 0.007588991487327257, 'be': 0.0, 'very': 0.0, 'special': 0.0025296638291090858, 'time': 0.0025296638291090858, 'the': 0.0, 'since': 0.0025296638291090858, 'millions': 0.0025296638291090858, 'people': 0.0025296638291090858, 'celebrate': 0.0050593276582181716, 'this': 0.007588991487327257, 'momentous': 0.0025296638291090858, 'occasion': 0.007588991487327257, 'fervour': 0.0025296638291090858, 'glee.': 0.0025296638291090858, 'Lord': 0.0, 'Shiva': 0.0, 'devotees': 0.0, 'grandness.': 0.0025296638291090858, 'accompanied': 0.0025296638291090858, 'by': 0.0025296638291090858, 'folk': 0.0025296638291090858, 'dances,': 0.0025296638291090858, 'songs,': 0.0025296638291090858, 'prayers,': 0.0025296638291090858, 'chants,': 0.0025296638291090858, 'mantras': 0.0025296638291090858, 'etc.': 0.0025296638291090858, 'This': 0.0, 'year,': 0.0025296638291090858, 'beautiful': 0.0025296638291090858, 'will': 0.0, 'on': 0.0, 'February': 0.0, '18.': 0.0025296638291090858, 'People': 0.0025296638291090858, 'keep': 0.0025296638291090858, 'fast': 0.0025296638291090858, 'shivratri,': 0.0025296638291090858, 'stay': 0.0025296638291090858, 'awake': 0.0025296638291090858, 'at': 0.0025296638291090858, 'night': 0.0025296638291090858, 'pray': 0.0025296638291090858, 'lord': 0.0025296638291090858, 'for': 0.0025296638291090858, 'blessings,': 0.0025296638291090858, 'happiness,': 0.0025296638291090858, 'hope': 0.0025296638291090858, 'prosperity.': 0.0025296638291090858, 'festival': 0.0, 'holds': 0.0025296638291090858, 'significance': 0.0025296638291090858, 'one': 0.0025296638291090858, 'most': 0.0025296638291090858, 'important': 0.0025296638291090858, 'festivals': 0.0025296638291090858, 'in': 0.0025296638291090858, 'India.': 0.0025296638291090858}, {'The': 0.006689555459199583, 'festival': 0.0, 'of': 0.0, 'Maha': 0.0, 'Shivratri': 0.0, 'will': 0.0, 'be': 0.0, 'celebrated': 0.0, 'on': 0.0, 'February': 0.0, '18': 0.006689555459199583, 'and': 0.0, 'is': 0.0, 'a': 0.0, 'very': 0.0, 'auspicious': 0.013379110918399165, 'festival.': 0.006689555459199583, 'This': 0.0, 'Hindu': 0.006689555459199583, 'celebrates': 0.006689555459199583, 'the': 0.0, 'power': 0.006689555459199583, 'Lord': 0.0, 'Shiva.': 0.006689555459199583, 'Shiva': 0.0, 'protects': 0.006689555459199583, 'his': 0.006689555459199583, 'devotees': 0.0, 'from': 0.006689555459199583, 'negative': 0.006689555459199583, 'evil': 0.006689555459199583, 'spirits.': 0.006689555459199583, 'He': 0.006689555459199583, 'epitome': 0.006689555459199583, 'powerful': 0.006689555459199583, 'energy.': 0.006689555459199583}]\n"
          ]
        }
      ]
    },
    {
      "cell_type": "code",
      "source": [
        "#Step 6: Calculate Cosine Similarity\n",
        "import numpy as np\n",
        "\n",
        "query = \"Maha Shivratri will be celebrated on February 18\"\n",
        "documents = [    \"Every year Maha Shivratri is celebrated with a lot of pomp and grandeur. It is considered to be a very special time of the year since millions of people celebrate this momentous occasion with a lot of fervour and glee. Lord Shiva devotees celebrate this occasion with a lot of grandness. It is accompanied by folk dances, songs, prayers, chants, mantras etc. This year, the beautiful occasion of Maha Shivratri will be celebrated on February 18. People keep a fast on this Maha shivratri, stay awake at night and pray to the lord for blessings, happiness, hope and prosperity. This festival holds a lot of significance and is considered to be one of the most important festivals in India.\",    \"The festival of Maha Shivratri will be celebrated on February 18 and is a very auspicious festival. This Hindu festival celebrates the power of Lord Shiva. Lord Shiva protects his devotees from negative and evil spirits. He is the epitome of powerful and auspicious energy.\"]\n",
        "\n",
        "def calculate_idf(documents):\n",
        "    idf = {}\n",
        "    for doc in documents:\n",
        "        for word in doc.split():\n",
        "            if word not in idf:\n",
        "                idf[word] = 1\n",
        "            else:\n",
        "                idf[word] += 1\n",
        "    for word in idf:\n",
        "        idf[word] = np.log(len(documents) / idf[word])\n",
        "    return idf\n",
        "\n",
        "def calculate_tf(document):\n",
        "    tf = {}\n",
        "    for word in document.split():\n",
        "        if word not in tf:\n",
        "            tf[word] = 1\n",
        "        else:\n",
        "            tf[word] += 1\n",
        "    return tf\n",
        "\n",
        "def calculate_tfidf(documents):\n",
        "    idf = calculate_idf(documents)\n",
        "    tfidf = []\n",
        "    for doc in documents:\n",
        "        tf = calculate_tf(doc)\n",
        "        doc_tfidf = {}\n",
        "        for word in doc.split():\n",
        "            doc_tfidf[word] = tf[word] * idf[word]\n",
        "        tfidf.append(doc_tfidf)\n",
        "    return tfidf\n",
        "\n",
        "def cosine_similarity(query, documents):\n",
        "    tfidf = calculate_tfidf(documents)\n",
        "    query_tfidf = {word: 0 for doc in tfidf for word in doc}\n",
        "    idf = calculate_idf(documents)\n",
        "    for word in query.split():\n",
        "        if word in idf:\n",
        "            query_tfidf[word] = calculate_tf(query)[word] * idf[word]\n",
        "    similarities = []\n",
        "    for i, doc in enumerate(tfidf):\n",
        "        doc_values = np.array(list(doc.values()))\n",
        "        query_values = np.array([query_tfidf[word] for word in doc])\n",
        "        similarity = np.dot(doc_values, query_values) / (np.linalg.norm(doc_values) * np.linalg.norm(query_values))\n",
        "        similarities.append((i, similarity))\n",
        "    return sorted(similarities, key=lambda x: x[1], reverse=True)\n",
        "\n",
        "\n",
        "print(cosine_similarity(query, documents))\n",
        "\n"
      ],
      "metadata": {
        "colab": {
          "base_uri": "https://localhost:8080/"
        },
        "id": "8Ul9FWTbKkz8",
        "outputId": "2fa75adc-defb-4172-a93b-5a6f77542c15"
      },
      "execution_count": 120,
      "outputs": [
        {
          "output_type": "stream",
          "name": "stdout",
          "text": [
            "[(1, 0.17149463025263811), (0, 0.16526057755382573)]\n"
          ]
        }
      ]
    },
    {
      "cell_type": "code",
      "source": [
        "#Step 7: Return Top 2 Relevant Documents\n",
        "def search(query, documents):\n",
        "    similarities = cosine_similarity(query, documents)\n",
        "    top_2 = similarities[:2]\n",
        "    results = []\n",
        "    for i, similarity in top_2:\n",
        "        results.append((documents[i], similarity))\n",
        "    return results\n",
        "print(search(query, documents))"
      ],
      "metadata": {
        "colab": {
          "base_uri": "https://localhost:8080/"
        },
        "id": "nkvzbVT6KoUV",
        "outputId": "1ea8bf0f-5335-480d-8e3a-1fe350abbd60"
      },
      "execution_count": 121,
      "outputs": [
        {
          "output_type": "stream",
          "name": "stdout",
          "text": [
            "[('The festival of Maha Shivratri will be celebrated on February 18 and is a very auspicious festival. This Hindu festival celebrates the power of Lord Shiva. Lord Shiva protects his devotees from negative and evil spirits. He is the epitome of powerful and auspicious energy.', 0.17149463025263811), ('Every year Maha Shivratri is celebrated with a lot of pomp and grandeur. It is considered to be a very special time of the year since millions of people celebrate this momentous occasion with a lot of fervour and glee. Lord Shiva devotees celebrate this occasion with a lot of grandness. It is accompanied by folk dances, songs, prayers, chants, mantras etc. This year, the beautiful occasion of Maha Shivratri will be celebrated on February 18. People keep a fast on this Maha shivratri, stay awake at night and pray to the lord for blessings, happiness, hope and prosperity. This festival holds a lot of significance and is considered to be one of the most important festivals in India.', 0.16526057755382573)]\n"
          ]
        }
      ]
    },
    {
      "cell_type": "code",
      "source": [
        "#Step 8: Jaccard Similarity\n",
        "def jaccard_similarity(query, documents):\n",
        "    query_tokens = set(query.split())\n",
        "    similarities = []\n",
        "    for i, document in enumerate(documents):\n",
        "        document_tokens = set(document.split())\n",
        "        intersection = len(query_tokens.intersection(document_tokens))\n",
        "        union = len(query_tokens.union(document_tokens))\n",
        "        similarity = intersection / union\n",
        "        similarities.append((i, similarity))\n",
        "    return sorted(similarities, key=lambda x: x[1], reverse=True)\n",
        "\n",
        "print(jaccard_similarity(query, documents))\n"
      ],
      "metadata": {
        "colab": {
          "base_uri": "https://localhost:8080/"
        },
        "id": "b4fK0dS-Krm6",
        "outputId": "7b72eabc-1b7b-477a-bf73-0a5940c9e26c"
      },
      "execution_count": 122,
      "outputs": [
        {
          "output_type": "stream",
          "name": "stdout",
          "text": [
            "[(1, 0.2222222222222222), (0, 0.09333333333333334)]\n"
          ]
        }
      ]
    },
    {
      "cell_type": "code",
      "source": [],
      "metadata": {
        "id": "FGo6a3bifH_d"
      },
      "execution_count": null,
      "outputs": []
    }
  ]
}